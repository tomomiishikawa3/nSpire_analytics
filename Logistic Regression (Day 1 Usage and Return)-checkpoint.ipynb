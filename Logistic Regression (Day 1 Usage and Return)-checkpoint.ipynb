{
 "cells": [
  {
   "cell_type": "code",
   "execution_count": null,
   "id": "906098b2",
   "metadata": {},
   "outputs": [],
   "source": [
    "import pandas as pd\n",
    "import numpy as np\n",
    "import statsmodels.api as sm\n",
    "from sklearn.linear_model import LogisticRegression\n",
    "from sklearn.metrics import confusion_matrix, classification_report, roc_auc_score\n",
    "from sklearn.model_selection import train_test_split\n",
    "\n",
    "# Load the data\n",
    "file_path = r'File path.xlsx'\n",
    "sheet_name = 'Day1Q - Return Logistics'\n",
    "data = pd.read_excel(file_path, sheet_name=sheet_name)\n",
    "\n",
    "# Define the independent and dependent variables\n",
    "X = data[['The number of day 1 functions']]\n",
    "y = data['Return']\n",
    "\n",
    "# Run logistic regression\n",
    "X_const = sm.add_constant(X)\n",
    "logit_model = sm.Logit(y, X_const)\n",
    "result = logit_model.fit()\n",
    "print(result.summary2())\n",
    "print(\"\\nPseudo R-squared:\", result.prsquared)\n"
   ]
  }
 ],
 "metadata": {
  "kernelspec": {
   "display_name": "Python 3 (ipykernel)",
   "language": "python",
   "name": "python3"
  },
  "language_info": {
   "codemirror_mode": {
    "name": "ipython",
    "version": 3
   },
   "file_extension": ".py",
   "mimetype": "text/x-python",
   "name": "python",
   "nbconvert_exporter": "python",
   "pygments_lexer": "ipython3",
   "version": "3.11.4"
  }
 },
 "nbformat": 4,
 "nbformat_minor": 5
}
