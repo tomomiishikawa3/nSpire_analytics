{
 "cells": [
  {
   "cell_type": "code",
   "execution_count": 9,
   "id": "2cd3e4f7",
   "metadata": {
    "scrolled": true
   },
   "outputs": [
    {
     "name": "stdout",
     "output_type": "stream",
     "text": [
      "Optimization terminated successfully.\n",
      "         Current function value: 0.640474\n",
      "         Iterations 8\n",
      "                               Results: Logit\n",
      "============================================================================\n",
      "Model:                  Logit                Method:               MLE      \n",
      "Dependent Variable:     Return               Pseudo R-squared:     0.076    \n",
      "Date:                   2023-12-09 22:17     AIC:                  88.5426  \n",
      "No. Observations:       66                   BIC:                  92.9219  \n",
      "Df Model:               1                    Log-Likelihood:       -42.271  \n",
      "Df Residuals:           64                   LL-Null:              -45.748  \n",
      "Converged:              1.0000               LLR p-value:          0.0083688\n",
      "No. Iterations:         8.0000               Scale:                1.0000   \n",
      "----------------------------------------------------------------------------\n",
      "                               Coef.  Std.Err.    z    P>|z|   [0.025 0.975]\n",
      "----------------------------------------------------------------------------\n",
      "const                         -0.2148   0.2635 -0.8151 0.4150 -0.7312 0.3017\n",
      "The number of day 1 functions  1.6014   1.0036  1.5957 0.1106 -0.3656 3.5683\n",
      "============================================================================\n",
      "\n",
      "\n",
      "Pseudo R-squared: 0.07599064887680362\n"
     ]
    }
   ],
   "source": [
    "import pandas as pd\n",
    "import numpy as np\n",
    "import statsmodels.api as sm\n",
    "from sklearn.linear_model import LogisticRegression\n",
    "from sklearn.metrics import confusion_matrix, classification_report, roc_auc_score\n",
    "from sklearn.model_selection import train_test_split\n",
    "\n",
    "# Load the data\n",
    "file_path = r'C:\\Users\\tomom\\OneDrive - Cornell University\\20_Recruiting\\7_Marketing Data Analytics\\nSpire AI\\00_Portfolio Sources\\Data Export Template 3.xlsx'\n",
    "sheet_name = 'Day1Q - Return Logistics'  # Replace with your sheet name if different\n",
    "data = pd.read_excel(file_path, sheet_name=sheet_name)\n",
    "\n",
    "# Define the independent and dependent variables\n",
    "X = data[['The number of day 1 functions']]\n",
    "y = data['Return']\n",
    "\n",
    "# Run logistic regression\n",
    "X_const = sm.add_constant(X)\n",
    "logit_model = sm.Logit(y, X_const)\n",
    "result = logit_model.fit()\n",
    "print(result.summary2())\n",
    "print(\"\\nPseudo R-squared:\", result.prsquared)\n"
   ]
  },
  {
   "cell_type": "code",
   "execution_count": null,
   "id": "b40408c7",
   "metadata": {},
   "outputs": [],
   "source": []
  }
 ],
 "metadata": {
  "kernelspec": {
   "display_name": "Python 3 (ipykernel)",
   "language": "python",
   "name": "python3"
  },
  "language_info": {
   "codemirror_mode": {
    "name": "ipython",
    "version": 3
   },
   "file_extension": ".py",
   "mimetype": "text/x-python",
   "name": "python",
   "nbconvert_exporter": "python",
   "pygments_lexer": "ipython3",
   "version": "3.11.4"
  }
 },
 "nbformat": 4,
 "nbformat_minor": 5
}
